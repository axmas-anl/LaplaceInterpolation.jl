{
 "cells": [
  {
   "cell_type": "markdown",
   "metadata": {},
   "source": [
    "# Molybdenum doped Vanadium Dioxide Data\n",
    "\n",
    "We will be comparing the result of standard punch and fill to that of the technique involving watershed segmentation of the Bragg peaks followed by Laplacian and Matern fill. \n",
    "\n",
    "The data can be found on nxrs:\n",
    "`/data3/GUP-53547/movo2_40/md_54_4b/movo2_40_120K.nxs`\n",
    "\n",
    "From Matt: the most relevant scattering is found half-integer L planes, with only weak size-effect scattering close to the Bragg peaks; a 3D-deltaPDF should show a clear 2D 'X' pattern."
   ]
  },
  {
   "cell_type": "code",
   "execution_count": 1,
   "metadata": {},
   "outputs": [],
   "source": [
    "# Set up directories for {Charlotte,Vishwas}'s machine.\n",
    "from   pathlib import Path\n",
    "home = str(Path.home())\n",
    "\n",
    "# If not Charlotte's home, Vishwas's home\n",
    "if home == '/Users/charlottehaley':\n",
    "    base_dir = home + '/Documents/Data/Xray/md_54_4b/'\n",
    "    repo_dir = home + '/Documents/Repos/laplaceinterpolation/'\n",
    "else:\n",
    "    base_dir = home +' /Research/BES_Project/Data/'\n",
    "    repo_dir = home + '/Research/BES_Project/Repo/laplaceinterpolation/'\n",
    "\n",
    "save_data_dir = base_dir"
   ]
  },
  {
   "cell_type": "code",
   "execution_count": 2,
   "metadata": {
    "ExecuteTime": {
     "end_time": "2020-08-06T02:46:10.438983Z",
     "start_time": "2020-08-06T02:45:46.546478Z"
    }
   },
   "outputs": [],
   "source": [
    "# loads libraries and functions that are usually used\n",
    "# functions included: flipaxis, getbraggs, getstencil, peel, \n",
    "# standard_punch, laplacian_fill & matern_fill (using Laplacians.jl, not Vishwas's code, YET)\n",
    "import sys\n",
    "sys.path.insert(1, repo_dir)\n",
    "from utils import *"
   ]
  },
  {
   "cell_type": "code",
   "execution_count": 3,
   "metadata": {
    "ExecuteTime": {
     "end_time": "2020-08-06T02:46:12.030433Z",
     "start_time": "2020-08-06T02:46:10.442322Z"
    }
   },
   "outputs": [
    {
     "name": "stdout",
     "output_type": "stream",
     "text": [
      "root:NXroot\n",
      "  @HDF5_Version = '1.10.2'\n",
      "  @file_name = '/net/s6iddata/export/s6buf1/GUP-53547/movo2_40...'\n",
      "  @file_time = '2018-06-15T10:10:00.034451'\n",
      "  @h5py_version = '2.8.0'\n",
      "  @nexusformat_version = '0.4.17+34.gdc4a4d8'\n",
      "  entry:NXentry\n",
      "    fft:NXdata\n",
      "      @axes = ['z', 'y', 'x']\n",
      "      @signal = 'data'\n",
      "      data -> 120K/fft_movo2_40_120K.nxs['/entry/data/fft']\n",
      "      x = float64(800)\n",
      "      y = float64(800)\n",
      "      z = float64(600)\n",
      "    fft_full:NXdata\n",
      "      @axes = ['z', 'y', 'x']\n",
      "      @signal = 'data'\n",
      "      data -> 120K/fft_full_movo2_40_120K.nxs['/entry/data/fft']\n",
      "      x = float64(800)\n",
      "      y = float64(800)\n",
      "      z = float64(600)\n",
      "    instrument:NXinstrument\n",
      "      detector:NXdetector\n",
      "        description = 'Pilatus CdTe 2M'\n",
      "        distance = 650.0\n",
      "          @units = 'mm'\n",
      "        pitch = 0.0\n",
      "        pixel_mask = int8(1679x1475)\n",
      "        pixel_size = 0.17200000000000001\n",
      "          @units = 'mm'\n",
      "        roll = 0.0\n",
      "        shape = [1679 1475]\n",
      "        yaw = 0.0\n",
      "      monochromator:NXmonochromator\n",
      "        energy = 87.07489013671875\n",
      "          @units = 'keV'\n",
      "        wavelength = 0.1423880010843277\n",
      "          @units = 'Angstroms'\n",
      "    masked_transform:NXdata\n",
      "      @axes = ['Ql', 'Qk', 'Qh']\n",
      "      @signal = 'data'\n",
      "      Qh = float64(1201)\n",
      "      Qk = float64(1201)\n",
      "      Ql = float64(801)\n",
      "      data -> 120K/masked_transform.nxs['/entry/data/v']\n",
      "    nxcombine:NXprocess\n",
      "      date = '2019-07-30T11:32:01.879106'\n",
      "      note:NXnote\n",
      "        data = 'Current machine: nxrs.msd.anl.gov...'\n",
      "        date = '2019-07-30T11:32:01.875280'\n",
      "        description = 'nxcombine'\n",
      "      program = 'nxcombine'\n",
      "      sequence_index = 2\n",
      "      version = 'nxrefine v0.1.0+605.g61978ff'\n",
      "    nxmasked_combine:NXprocess\n",
      "      date = '2019-07-30T15:27:02.345606'\n",
      "      note:NXnote\n",
      "        data = 'Current machine: nxrs.msd.anl.gov...'\n",
      "        date = '2019-07-30T15:27:02.341865'\n",
      "        description = 'nxmasked_combine'\n",
      "      program = 'nxmasked_combine'\n",
      "      sequence_index = 2\n",
      "      version = 'nxrefine v0.1.0+605.g61978ff'\n",
      "    sample:NXsample\n",
      "      @target = '/entry/sample'\n",
      "      label = 'md_54_4b'\n",
      "      lattice_centring = 'P'\n",
      "      name = 'movo2_40'\n",
      "      temperature = 120.0\n",
      "        @units = 'K'\n",
      "      unit_cell_group = 'tetragonal'\n",
      "      unitcell_a = 4.579394729303869\n",
      "      unitcell_alpha = 90.0\n",
      "      unitcell_b = 4.579394729303869\n",
      "      unitcell_beta = 90.0\n",
      "      unitcell_c = 2.8602820375202533\n",
      "      unitcell_gamma = 90.0\n",
      "    symm_transform:NXdata\n",
      "      @axes = ['Ql', 'Qk', 'Qh']\n",
      "      @signal = 'data'\n",
      "      Qh = float64(1201)\n",
      "      Qk = float64(1201)\n",
      "      Ql = float64(801)\n",
      "      data -> 120K/symm_movo2_40_120K.nxs['/entry/data/data']\n",
      "    transform:NXdata\n",
      "      @axes = ['Ql', 'Qk', 'Qh']\n",
      "      @signal = 'data'\n",
      "      Qh = float64(1201)\n",
      "      Qk = float64(1201)\n",
      "      Ql = float64(801)\n",
      "      data -> 120K/transform.nxs['/entry/data/v']\n",
      "  f1:NXentry\n",
      "    data:NXdata\n",
      "      @axes = ['frame_number', 'y_pixel', 'x_pixel']\n",
      "      @signal = 'data'\n",
      "      data -> 120K/f1.h5['/entry/data/data']\n",
      "      data_mask -> 120K/f1_mask.nxs['/entry/mask']\n",
      "      frame_number = int32(3650)\n",
      "      monitor_weight = float64(3650)\n",
      "        @axes = 'frame_number'\n",
      "      x_pixel = int32(1475)\n",
      "      y_pixel = int32(1679)\n",
      "    instrument:NXinstrument\n",
      "      attenuator:NXattenuator\n",
      "        attenuator_transmission = 1.0\n",
      "      calibration:NXdata\n",
      "        @axes = ['y', 'x']\n",
      "        @signal = 'z'\n",
      "        calibrant = 'CeO2'\n",
      "        header:NXcollection\n",
      "          compression = False\n",
      "          compression_type = 1\n",
      "          date = 'Unknown Date'\n",
      "          imageDescription = '# Pixel_size 172e-6 m x 172e-6 m...'\n",
      "          nBits = 32\n",
      "          nColumns = 1475\n",
      "          nRows = 1679\n",
      "          photometricInterpretation = 1\n",
      "          rowsPerStrip = 1679\n",
      "          sampleFormat = 2\n",
      "          software = 'EPICS areaDetector'\n",
      "          stripByteCounts = 9906100\n",
      "          stripOffsets = 8\n",
      "        refinement:NXprocess\n",
      "          date = '2018-06-12T11:25:33.719275'\n",
      "          parameters:NXcollection\n",
      "            Detector = 'Pilatus CdTe 2M'\n",
      "            Distance = 0.6501105319711421\n",
      "            PixelSize1 = 0.000172\n",
      "            PixelSize2 = 0.000172\n",
      "            Poni1 = 0.25379659529338894\n",
      "            Poni2 = 0.20884148166650163\n",
      "            Rot1 = -0.004061868096799278\n",
      "            Rot2 = -1.1046131971058863e-05\n",
      "            Rot3 = 4.1045405501110845e-10\n",
      "            Wavelength = 1.42388e-11\n",
      "          program = 'pyFAI'\n",
      "          version = '0.15.0'\n",
      "        title = '/net/s6iddata/export/s6buf1/GUP-53547/calibrations/ceo2_...'\n",
      "        x = int64(1475)\n",
      "        y = int64(1679)\n",
      "        z = int32(1679x1475)\n",
      "      detector:NXdetector\n",
      "        beam_center_x = 1228.8913048347288\n",
      "        beam_center_y = 1474.7358114260867\n",
      "        description = 'Pilatus CdTe 2M'\n",
      "        distance = 650.111\n",
      "          @units = 'mm'\n",
      "        frame_time = 0.1\n",
      "        orientation_matrix = float64(3x3)\n",
      "        pitch = 0.21804452577620026\n",
      "        pixel_mask = int8(1679x1475)\n",
      "          @signal_path = 'exp_87keV_650mm/f1/instrument/detector/pixel_mask'\n",
      "        pixel_size = 0.172\n",
      "          @units = 'mm'\n",
      "        roll = 2.35173e-08\n",
      "        shape = [1679 1475]\n",
      "        translation_x = 0.0\n",
      "          @units = 'mm'\n",
      "        translation_y = 0.0\n",
      "          @units = 'mm'\n",
      "        yaw = 0.07954161530586923\n",
      "      goniometer:NXgoniometer\n",
      "        chi = -89.86773999197962\n",
      "        goniometer_pitch = -0.5268882950119398\n",
      "        omega = 0.5011470747107296\n",
      "        phi = -5.0\n",
      "          @end = 360.0\n",
      "          @step = 0.1\n",
      "        two_theta = 0.0\n",
      "      logs:NXcollection\n",
      "        Beam_energy_local_filter = 86.9764\n",
      "        Calculated_filter_transmission = 1.0\n",
      "        Control_sensor = 120.0\n",
      "        Detector_X = 0.0\n",
      "        Detector_Y = 0.0\n",
      "        Detector_diode_amplifier_range = 10.0\n",
      "        Detector_diode_amplifier_units = 'uA/V'\n",
      "        E_spec = 86.9764\n",
      "        First_mono_slit_horizontal_center = 0.0\n",
      "        First_mono_slit_horizontal_size = 0.5\n",
      "        First_mono_slit_vertical_center = 0.0\n",
      "        First_mono_slit_vertical_size = 0.5\n",
      "        MCS1 = float64(4000)\n",
      "        MCS2 = float64(4000)\n",
      "        MCS3 = float64(4000)\n",
      "        MCS4 = float64(4000)\n",
      "        Monitor_diode_amplifier_range = 5.0\n",
      "        Monitor_diode_amplifier_units = 'uA/V'\n",
      "        SCU_Current = 382.397\n",
      "        SCU_Set_Current = 382.398\n",
      "        Sample_X = -7.10543e-15\n",
      "        Sample_Y = 5.55112e-17\n",
      "        Sample_chi = 0.0\n",
      "        Sample_phi = 360.0\n",
      "        Sample_sensor = 120.01\n",
      "        Sample_theta = 0.0\n",
      "        Second_mono_slit_horizontal_center = 0.0\n",
      "        Second_mono_slit_horizontal_size = 1.0\n",
      "        Second_mono_slit_vertical_center = 0.0\n",
      "        Second_mono_slit_vertical_size = 1.0\n",
      "        Setpoint = 120.0\n",
      "        Storage_Ring_Current = 102.089\n",
      "        UndulatorA_gap = 24.2497\n",
      "      monochromator:NXmonochromator\n",
      "        energy = 87.07489013671875\n",
      "          @units = 'keV'\n",
      "        wavelength = 0.142388\n",
      "          @units = 'Angstroms'\n",
      "      source:NXsource\n",
      "        current = 102.089\n",
      "        name = 'Advanced Photon Source'\n",
      "        probe = 'x-ray'\n",
      "        type = 'Synchrotron X-ray Source'\n",
      "        undulator_gap = 24.2497\n",
      "    masked_transform:NXdata\n",
      "      @axes = ['Ql', 'Qk', 'Qh']\n",
      "      @signal = 'data'\n",
      "      Qh = float64(1201)\n",
      "      Qk = float64(1201)\n",
      "      Ql = float64(801)\n",
      "      command = 'cctw transform --script /data3/GUP-53547/movo2_40/md_54_...'\n",
      "      data -> 120K/f1_masked_transform.nxs['/entry/data/v']\n",
      "      weights -> 120K/f1_masked_transform.nxs['/entry/data/n']\n",
      "    monitor1:NXdata\n",
      "      @axes = 'frame_number'\n",
      "      @signal = 'MCS1'\n",
      "      MCS1 = float64(3650)\n",
      "      frame_number = int32(3650)\n",
      "    monitor2:NXdata\n",
      "      @axes = 'frame_number'\n",
      "      @signal = 'MCS2'\n",
      "      MCS2 = float64(3650)\n",
      "      frame_number = int32(3650)\n",
      "    nxcopy:NXprocess\n",
      "      date = '2018-06-15T14:18:43.826668'\n",
      "      note:NXnote\n",
      "        data = 'Current machine: puppy66...'\n",
      "        date = '2018-06-15T14:18:43.825766'\n",
      "        description = 'nxcopy'\n",
      "      program = 'nxcopy'\n",
      "      sequence_index = 3\n",
      "      version = 'nxrefine v0.1.0+334.g5556084'\n",
      "    nxfind:NXprocess\n",
      "      date = '2018-06-15T14:18:41.367317'\n",
      "      note:NXnote\n",
      "        data = 'Current machine: puppy66...'\n",
      "        date = '2018-06-15T14:18:41.366204'\n",
      "        description = 'nxfind'\n",
      "      program = 'nxfind'\n",
      "      sequence_index = 2\n",
      "      version = 'nxrefine v0.1.0+334.g5556084'\n",
      "    nxlink:NXprocess\n",
      "      date = '2018-06-15T14:11:54.538415'\n",
      "      note:NXnote\n",
      "        data = 'Current machine: puppy66...'\n",
      "        date = '2018-06-15T14:11:54.537547'\n",
      "        description = 'nxlink'\n",
      "      program = 'nxlink'\n",
      "      sequence_index = 1\n",
      "      version = 'nxrefine v0.1.0+334.g5556084'\n",
      "    nxmasked_transform:NXprocess\n",
      "      date = '2019-07-30T14:39:05.758316'\n",
      "      note:NXnote\n",
      "        data = 'Current machine: nxrs.msd.anl.gov...'\n",
      "        date = '2019-07-30T14:39:05.754418'\n",
      "        description = 'nxmasked_transform'\n",
      "      program = 'nxmasked_transform'\n",
      "      sequence_index = 7\n",
      "      version = 'nxrefine v0.1.0+605.g61978ff'\n",
      "    nxprepare_mask:NXprocess\n",
      "      date = '2019-07-30T12:02:37.126127'\n",
      "      note:NXnote\n",
      "        data = 'Current machine: nxrs.msd.anl.gov...'\n",
      "        date = '2019-07-30T12:02:37.124158'\n",
      "        description = 'nxprepare_mask'\n",
      "      program = 'nxprepare_mask'\n",
      "      sequence_index = 7\n",
      "      version = 'nxrefine v0.1.0+605.g61978ff'\n",
      "    nxrefine:NXprocess\n",
      "      date = '2018-06-15T15:51:34.035289'\n",
      "      note:NXnote\n",
      "        data = 'Current machine: puppy65...'\n",
      "        date = '2018-06-15T15:51:34.034366'\n",
      "        description = 'nxrefine'\n",
      "      program = 'nxrefine'\n",
      "      sequence_index = 4\n",
      "      version = 'nxrefine v0.1.0+334.g5556084'\n",
      "    nxtransform:NXprocess\n",
      "      date = '2019-07-30T11:03:49.300120'\n",
      "      note:NXnote\n",
      "        data = 'Current machine: nxrs.msd.anl.gov...'\n",
      "        date = '2019-07-30T11:03:49.296189'\n",
      "        description = 'nxtransform'\n",
      "      program = 'nxtransform'\n",
      "      sequence_index = 7\n",
      "      version = 'nxrefine v0.1.0+605.g61978ff'\n",
      "    peaks:NXreflections\n",
      "      @first = 25\n",
      "      @last = 3650\n",
      "      @norm = 50000.0\n",
      "      @radius = 200\n",
      "      @threshold = 132051.0\n",
      "      @width = 3\n",
      "      azimuthal_angle = float64(143)\n",
      "      covxy = float32(143)\n",
      "      intensity = float32(143)\n",
      "      npixels = float32(143)\n",
      "      polar_angle = float64(143)\n",
      "      sigx = float32(143)\n",
      "      sigy = float32(143)\n",
      "      x = float32(143)\n",
      "      y = float32(143)\n",
      "      z = float32(143)\n",
      "    sample:NXsample -> /entry/sample\n",
      "      @target = '/entry/sample'\n",
      "      label = 'md_54_4b'\n",
      "      lattice_centring = 'P'\n",
      "      name = 'movo2_40'\n",
      "      temperature = 120.0\n",
      "        @units = 'K'\n",
      "      unit_cell_group = 'tetragonal'\n",
      "      unitcell_a = 4.579394729303869\n",
      "      unitcell_alpha = 90.0\n",
      "      unitcell_b = 4.579394729303869\n",
      "      unitcell_beta = 90.0\n",
      "      unitcell_c = 2.8602820375202533\n",
      "      unitcell_gamma = 90.0\n",
      "    transform:NXdata\n",
      "      @axes = ['Ql', 'Qk', 'Qh']\n",
      "      @signal = 'data'\n",
      "      Qh = float64(1201)\n",
      "      Qk = float64(1201)\n",
      "      Ql = float64(801)\n",
      "      command = 'cctw transform --script /data3/GUP-53547/movo2_40/md_54_...'\n",
      "      data -> 120K/f1_transform.nxs['/entry/data/v']\n",
      "      weights -> 120K/f1_transform.nxs['/entry/data/n']\n",
      "  f2:NXentry\n",
      "    data:NXdata\n",
      "      @axes = ['frame_number', 'y_pixel', 'x_pixel']\n",
      "      @signal = 'data'\n",
      "      data -> 120K/f2.h5['/entry/data/data']\n",
      "      data_mask -> 120K/f2_mask.nxs['/entry/mask']\n",
      "      frame_number = int32(3650)\n",
      "      monitor_weight = float64(3650)\n",
      "        @axes = 'frame_number'\n",
      "      x_pixel = int32(1475)\n",
      "      y_pixel = int32(1679)\n",
      "    instrument:NXinstrument\n",
      "      attenuator:NXattenuator\n",
      "        attenuator_transmission = 1.0\n",
      "      calibration:NXdata\n",
      "        @axes = ['y', 'x']\n",
      "        @signal = 'z'\n",
      "        calibrant = 'CeO2'\n",
      "        header:NXcollection\n",
      "          compression = False\n",
      "          compression_type = 1\n",
      "          date = 'Unknown Date'\n",
      "          imageDescription = '# Pixel_size 172e-6 m x 172e-6 m...'\n",
      "          nBits = 32\n",
      "          nColumns = 1475\n",
      "          nRows = 1679\n",
      "          photometricInterpretation = 1\n",
      "          rowsPerStrip = 1679\n",
      "          sampleFormat = 2\n",
      "          software = 'EPICS areaDetector'\n",
      "          stripByteCounts = 9906100\n",
      "          stripOffsets = 8\n",
      "        refinement:NXprocess\n",
      "          date = '2018-06-12T11:31:49.413812'\n",
      "          parameters:NXcollection\n",
      "            Detector = 'Pilatus CdTe 2M'\n",
      "            Distance = 0.6501032317475018\n",
      "            PixelSize1 = 0.000172\n",
      "            PixelSize2 = 0.000172\n",
      "            Poni1 = 0.2595514804198973\n",
      "            Poni2 = 0.21448753619364536\n",
      "            Rot1 = -0.0030640764670109765\n",
      "            Rot2 = -0.001205889731812726\n",
      "            Rot3 = -1.789680912061858e-10\n",
      "            Wavelength = 1.42388e-11\n",
      "          program = 'pyFAI'\n",
      "          version = '0.15.0'\n",
      "        title = '/net/s6iddata/export/s6buf1/GUP-53547/calibrations/ceo2_...'\n",
      "        x = int64(1475)\n",
      "        y = int64(1679)\n",
      "        z = int32(1679x1475)\n",
      "      detector:NXdetector\n",
      "        beam_center_x = 1258.3308528313864\n",
      "        beam_center_y = 1503.650032117057\n",
      "        description = 'Pilatus CdTe 2M'\n",
      "        distance = 650.103\n",
      "          @units = 'mm'\n",
      "        frame_time = 0.1\n",
      "        orientation_matrix = float64(3x3)\n",
      "        pitch = 0.21923881088629749\n",
      "        pixel_mask = int8(1679x1475)\n",
      "        pixel_size = 0.17200000000000001\n",
      "          @units = 'mm'\n",
      "        roll = -1.02541e-08\n",
      "        shape = [1679 1475]\n",
      "        translation_x = 5.0\n",
      "          @units = 'mm'\n",
      "        translation_y = 5.0\n",
      "          @units = 'mm'\n",
      "        yaw = -0.04472207194347444\n",
      "      goniometer:NXgoniometer\n",
      "        chi = -89.46742004442899\n",
      "        goniometer_pitch = 1.559565398721027\n",
      "        omega = -14.578303303680615\n",
      "        phi = -5.0\n",
      "          @end = 360.0\n",
      "          @step = 0.1\n",
      "        two_theta = 0.0\n",
      "      logs:NXcollection\n",
      "        Beam_energy_local_filter = 86.9764\n",
      "        Calculated_filter_transmission = 1.0\n",
      "        Control_sensor = 120.0\n",
      "        Detector_X = 5.00062\n",
      "        Detector_Y = 5.0\n",
      "        Detector_diode_amplifier_range = 10.0\n",
      "        Detector_diode_amplifier_units = 'uA/V'\n",
      "        E_spec = 86.9764\n",
      "        First_mono_slit_horizontal_center = 0.0\n",
      "        First_mono_slit_horizontal_size = 0.5\n",
      "        First_mono_slit_vertical_center = 0.0\n",
      "        First_mono_slit_vertical_size = 0.5\n",
      "        MCS1 = float64(4000)\n",
      "        MCS2 = float64(4000)\n",
      "        MCS3 = float64(4000)\n",
      "        MCS4 = float64(4000)\n",
      "        Monitor_diode_amplifier_range = 5.0\n",
      "        Monitor_diode_amplifier_units = 'uA/V'\n",
      "        SCU_Current = 382.581\n",
      "        SCU_Set_Current = 382.398\n",
      "        Sample_X = -7.10543e-15\n",
      "        Sample_Y = 5.55112e-17\n",
      "        Sample_chi = 0.0\n",
      "        Sample_phi = 360.0\n",
      "        Sample_sensor = 120.0\n",
      "        Sample_theta = -15.0\n",
      "        Second_mono_slit_horizontal_center = 0.0\n",
      "        Second_mono_slit_horizontal_size = 1.0\n",
      "        Second_mono_slit_vertical_center = 0.0\n",
      "        Second_mono_slit_vertical_size = 1.0\n",
      "        Setpoint = 120.0\n",
      "        Storage_Ring_Current = 102.183\n",
      "        UndulatorA_gap = 24.2497\n",
      "      monochromator:NXmonochromator\n",
      "        energy = 87.07489013671875\n",
      "          @units = 'keV'\n",
      "        wavelength = 0.142388\n",
      "          @units = 'Angstroms'\n",
      "      source:NXsource\n",
      "        current = 102.183\n",
      "        name = 'Advanced Photon Source'\n",
      "        probe = 'x-ray'\n",
      "        type = 'Synchrotron X-ray Source'\n",
      "        undulator_gap = 24.2497\n",
      "    masked_transform:NXdata\n",
      "      @axes = ['Ql', 'Qk', 'Qh']\n",
      "      @signal = 'data'\n",
      "      Qh = float64(1201)\n",
      "      Qk = float64(1201)\n",
      "      Ql = float64(801)\n",
      "      command = 'cctw transform --script /data3/GUP-53547/movo2_40/md_54_...'\n",
      "      data -> 120K/f2_masked_transform.nxs['/entry/data/v']\n",
      "      weights -> 120K/f2_masked_transform.nxs['/entry/data/n']\n",
      "    monitor1:NXdata\n",
      "      @axes = 'frame_number'\n",
      "      @signal = 'MCS1'\n",
      "      MCS1 = float64(3650)\n",
      "      frame_number = int32(3650)\n",
      "    monitor2:NXdata\n",
      "      @axes = 'frame_number'\n",
      "      @signal = 'MCS2'\n",
      "      MCS2 = float64(3650)\n",
      "      frame_number = int32(3650)\n",
      "    nxcopy:NXprocess\n",
      "      date = '2018-06-15T14:20:22.190702'\n",
      "      note:NXnote\n",
      "        data = 'Current machine: puppy72...'\n",
      "        date = '2018-06-15T14:20:22.189814'\n",
      "        description = 'nxcopy'\n",
      "      program = 'nxcopy'\n",
      "      sequence_index = 3\n",
      "      version = 'nxrefine v0.1.0+334.g5556084'\n",
      "    nxfind:NXprocess\n",
      "      date = '2018-06-15T14:20:20.961949'\n",
      "      note:NXnote\n",
      "        data = 'Current machine: puppy72...'\n",
      "        date = '2018-06-15T14:20:20.961236'\n",
      "        description = 'nxfind'\n",
      "      program = 'nxfind'\n",
      "      sequence_index = 2\n",
      "      version = 'nxrefine v0.1.0+334.g5556084'\n",
      "    nxlink:NXprocess\n",
      "      date = '2018-06-15T14:13:14.961313'\n",
      "      note:NXnote\n",
      "        data = 'Current machine: puppy72...'\n",
      "        date = '2018-06-15T14:13:14.960435'\n",
      "        description = 'nxlink'\n",
      "      program = 'nxlink'\n",
      "      sequence_index = 1\n",
      "      version = 'nxrefine v0.1.0+334.g5556084'\n",
      "    nxmasked_transform:NXprocess\n",
      "      date = '2019-07-30T15:01:28.761869'\n",
      "      note:NXnote\n",
      "        data = 'Current machine: nxrs.msd.anl.gov...'\n",
      "        date = '2019-07-30T15:01:28.757653'\n",
      "        description = 'nxmasked_transform'\n",
      "      program = 'nxmasked_transform'\n",
      "      sequence_index = 7\n",
      "      version = 'nxrefine v0.1.0+605.g61978ff'\n",
      "    nxprepare_mask:NXprocess\n",
      "      date = '2019-07-30T12:30:09.926851'\n",
      "      note:NXnote\n",
      "        data = 'Current machine: nxrs.msd.anl.gov...'\n",
      "        date = '2019-07-30T12:30:09.924859'\n",
      "        description = 'nxprepare_mask'\n",
      "      program = 'nxprepare_mask'\n",
      "      sequence_index = 7\n",
      "      version = 'nxrefine v0.1.0+605.g61978ff'\n",
      "    nxrefine:NXprocess\n",
      "      date = '2018-06-15T15:52:50.944958'\n",
      "      note:NXnote\n",
      "        data = 'Current machine: puppy66...'\n",
      "        date = '2018-06-15T15:52:50.943708'\n",
      "        description = 'nxrefine'\n",
      "      program = 'nxrefine'\n",
      "      sequence_index = 4\n",
      "      version = 'nxrefine v0.1.0+334.g5556084'\n",
      "    nxtransform:NXprocess\n",
      "      date = '2019-07-30T11:16:59.023469'\n",
      "      note:NXnote\n",
      "        data = 'Current machine: nxrs.msd.anl.gov...'\n",
      "        date = '2019-07-30T11:16:59.019764'\n",
      "        description = 'nxtransform'\n",
      "      program = 'nxtransform'\n",
      "      sequence_index = 7\n",
      "      version = 'nxrefine v0.1.0+605.g61978ff'\n",
      "    peaks:NXreflections\n",
      "      @first = 25\n",
      "      @last = 3650\n",
      "      @norm = 50000.0\n",
      "      @radius = 200\n",
      "      @threshold = 132051.0\n",
      "      @width = 3\n",
      "      azimuthal_angle = float64(734)\n",
      "      covxy = float32(734)\n",
      "      intensity = float32(734)\n",
      "      npixels = float32(734)\n",
      "      polar_angle = float64(734)\n",
      "      sigx = float32(734)\n",
      "      sigy = float32(734)\n",
      "      x = float32(734)\n",
      "      y = float32(734)\n",
      "      z = float32(734)\n",
      "    sample:NXsample -> /entry/sample\n",
      "      @target = '/entry/sample'\n",
      "      label = 'md_54_4b'\n",
      "      lattice_centring = 'P'\n",
      "      name = 'movo2_40'\n",
      "      temperature = 120.0\n",
      "        @units = 'K'\n",
      "      unit_cell_group = 'tetragonal'\n",
      "      unitcell_a = 4.579394729303869\n",
      "      unitcell_alpha = 90.0\n",
      "      unitcell_b = 4.579394729303869\n",
      "      unitcell_beta = 90.0\n",
      "      unitcell_c = 2.8602820375202533\n",
      "      unitcell_gamma = 90.0\n",
      "    transform:NXdata\n",
      "      @axes = ['Ql', 'Qk', 'Qh']\n",
      "      @signal = 'data'\n",
      "      Qh = float64(1201)\n",
      "      Qk = float64(1201)\n",
      "      Ql = float64(801)\n",
      "      command = 'cctw transform --script /data3/GUP-53547/movo2_40/md_54_...'\n",
      "      data -> 120K/f2_transform.nxs['/entry/data/v']\n",
      "      weights -> 120K/f2_transform.nxs['/entry/data/n']\n",
      "  f3:NXentry\n",
      "    data:NXdata\n",
      "      @axes = ['frame_number', 'y_pixel', 'x_pixel']\n",
      "      @signal = 'data'\n",
      "      data -> 120K/f3.h5['/entry/data/data']\n",
      "      data_mask -> 120K/f3_mask.nxs['/entry/mask']\n",
      "      frame_number = int32(3650)\n",
      "      monitor_weight = float64(3650)\n",
      "        @axes = 'frame_number'\n",
      "      x_pixel = int32(1475)\n",
      "      y_pixel = int32(1679)\n",
      "    instrument:NXinstrument\n",
      "      attenuator:NXattenuator\n",
      "        attenuator_transmission = 1.0\n",
      "      calibration:NXdata\n",
      "        @axes = ['y', 'x']\n",
      "        @signal = 'z'\n",
      "        calibrant = 'CeO2'\n",
      "        header:NXcollection\n",
      "          compression = False\n",
      "          compression_type = 1\n",
      "          date = 'Unknown Date'\n",
      "          imageDescription = '# Pixel_size 172e-6 m x 172e-6 m...'\n",
      "          nBits = 32\n",
      "          nColumns = 1475\n",
      "          nRows = 1679\n",
      "          photometricInterpretation = 1\n",
      "          rowsPerStrip = 1679\n",
      "          sampleFormat = 2\n",
      "          software = 'EPICS areaDetector'\n",
      "          stripByteCounts = 9906100\n",
      "          stripOffsets = 8\n",
      "        refinement:NXprocess\n",
      "          date = '2018-06-12T11:34:20.235544'\n",
      "          parameters:NXcollection\n",
      "            Detector = 'Pilatus CdTe 2M'\n",
      "            Distance = 0.6500199330076937\n",
      "            PixelSize1 = 0.000172\n",
      "            PixelSize2 = 0.000172\n",
      "            Poni1 = 0.2681295286206983\n",
      "            Poni2 = 0.21885065753569447\n",
      "            Rot1 = -0.004034539890754137\n",
      "            Rot2 = -0.006658208689927236\n",
      "            Rot3 = -9.67573287229561e-10\n",
      "            Wavelength = 1.42388e-11\n",
      "          program = 'pyFAI'\n",
      "          version = '0.15.0'\n",
      "        title = '/net/s6iddata/export/s6buf1/GUP-53547/calibrations/ceo2_...'\n",
      "        x = int64(1475)\n",
      "        y = int64(1679)\n",
      "        z = int32(1679x1475)\n",
      "      detector:NXdetector\n",
      "        beam_center_x = 1286.5389042586019\n",
      "        beam_center_y = 1532.629833565477\n",
      "        description = 'Pilatus CdTe 2M'\n",
      "        distance = 650.02\n",
      "          @units = 'mm'\n",
      "        frame_time = 0.1\n",
      "        orientation_matrix = float64(3x3)\n",
      "        pitch = 0.479192054710893\n",
      "        pixel_mask = int8(1679x1475)\n",
      "          @signal_path = 'exp_87keV_650mm/f3/instrument/detector/pixel_mask'\n",
      "        pixel_size = 0.17200000000000001\n",
      "          @units = 'mm'\n",
      "        roll = -5.54379e-08\n",
      "        shape = [1679 1475]\n",
      "        translation_x = 10.0\n",
      "          @units = 'mm'\n",
      "        translation_y = 10.0\n",
      "          @units = 'mm'\n",
      "        yaw = -0.07944871862292135\n",
      "      goniometer:NXgoniometer\n",
      "        chi = -88.80577112830106\n",
      "        goniometer_pitch = -4.046005224350749\n",
      "        omega = 15.473830939084557\n",
      "        phi = -5.0\n",
      "          @end = 360.0\n",
      "          @step = 0.1\n",
      "        two_theta = 0.0\n",
      "      logs:NXcollection\n",
      "        Beam_energy_local_filter = 86.9764\n",
      "        Calculated_filter_transmission = 1.0\n",
      "        Control_sensor = 120.0\n",
      "        Detector_X = 10.0012\n",
      "        Detector_Y = 10.0\n",
      "        Detector_diode_amplifier_range = 10.0\n",
      "        Detector_diode_amplifier_units = 'uA/V'\n",
      "        E_spec = 86.9764\n",
      "        First_mono_slit_horizontal_center = 0.0\n",
      "        First_mono_slit_horizontal_size = 0.5\n",
      "        First_mono_slit_vertical_center = 0.0\n",
      "        First_mono_slit_vertical_size = 0.5\n",
      "        MCS1 = float64(4000)\n",
      "        MCS2 = float64(4000)\n",
      "        MCS3 = float64(4000)\n",
      "        MCS4 = float64(4000)\n",
      "        Monitor_diode_amplifier_range = 5.0\n",
      "        Monitor_diode_amplifier_units = 'uA/V'\n",
      "        SCU_Current = 382.397\n",
      "        SCU_Set_Current = 382.398\n",
      "        Sample_X = -7.10543e-15\n",
      "        Sample_Y = 5.55112e-17\n",
      "        Sample_chi = 0.0\n",
      "        Sample_phi = 360.0\n",
      "        Sample_sensor = 120.0\n",
      "        Sample_theta = 15.0\n",
      "        Second_mono_slit_horizontal_center = 0.0\n",
      "        Second_mono_slit_horizontal_size = 1.0\n",
      "        Second_mono_slit_vertical_center = 0.0\n",
      "        Second_mono_slit_vertical_size = 1.0\n",
      "        Setpoint = 120.0\n",
      "        Storage_Ring_Current = 102.183\n",
      "        UndulatorA_gap = 24.2499\n",
      "      monochromator:NXmonochromator\n",
      "        energy = 87.07489013671875\n",
      "          @units = 'keV'\n",
      "        wavelength = 0.142388\n",
      "          @units = 'Angstroms'\n",
      "      source:NXsource\n",
      "        current = 102.183\n",
      "        name = 'Advanced Photon Source'\n",
      "        probe = 'x-ray'\n",
      "        type = 'Synchrotron X-ray Source'\n",
      "        undulator_gap = 24.2499\n",
      "    masked_transform:NXdata\n",
      "      @axes = ['Ql', 'Qk', 'Qh']\n",
      "      @signal = 'data'\n",
      "      Qh = float64(1201)\n",
      "      Qk = float64(1201)\n",
      "      Ql = float64(801)\n",
      "      command = 'cctw transform --script /data3/GUP-53547/movo2_40/md_54_...'\n",
      "      data -> 120K/f3_masked_transform.nxs['/entry/data/v']\n",
      "      weights -> 120K/f3_masked_transform.nxs['/entry/data/n']\n",
      "    monitor1:NXdata\n",
      "      @axes = 'frame_number'\n",
      "      @signal = 'MCS1'\n",
      "      MCS1 = float64(3650)\n",
      "      frame_number = int32(3650)\n",
      "    monitor2:NXdata\n",
      "      @axes = 'frame_number'\n",
      "      @signal = 'MCS2'\n",
      "      MCS2 = float64(3650)\n",
      "      frame_number = int32(3650)\n",
      "    nxcopy:NXprocess\n",
      "      date = '2018-06-15T14:20:00.573750'\n",
      "      note:NXnote\n",
      "        data = 'Current machine: puppy69...'\n",
      "        date = '2018-06-15T14:20:00.572590'\n",
      "        description = 'nxcopy'\n",
      "      program = 'nxcopy'\n",
      "      sequence_index = 3\n",
      "      version = 'nxrefine v0.1.0+334.g5556084'\n",
      "    nxfind:NXprocess\n",
      "      date = '2018-06-15T14:19:59.026207'\n",
      "      note:NXnote\n",
      "        data = 'Current machine: puppy69...'\n",
      "        date = '2018-06-15T14:19:59.025249'\n",
      "        description = 'nxfind'\n",
      "      program = 'nxfind'\n",
      "      sequence_index = 2\n",
      "      version = 'nxrefine v0.1.0+334.g5556084'\n",
      "    nxlink:NXprocess\n",
      "      date = '2018-06-15T14:13:18.828449'\n",
      "      note:NXnote\n",
      "        data = 'Current machine: puppy69...'\n",
      "        date = '2018-06-15T14:13:18.827523'\n",
      "        description = 'nxlink'\n",
      "      program = 'nxlink'\n",
      "      sequence_index = 1\n",
      "      version = 'nxrefine v0.1.0+334.g5556084'\n",
      "    nxmasked_transform:NXprocess\n",
      "      date = '2019-07-30T15:24:26.418605'\n",
      "      note:NXnote\n",
      "        data = 'Current machine: nxrs.msd.anl.gov...'\n",
      "        date = '2019-07-30T15:24:26.414783'\n",
      "        description = 'nxmasked_transform'\n",
      "      program = 'nxmasked_transform'\n",
      "      sequence_index = 7\n",
      "      version = 'nxrefine v0.1.0+605.g61978ff'\n",
      "    nxprepare_mask:NXprocess\n",
      "      date = '2019-07-30T12:57:43.185569'\n",
      "      note:NXnote\n",
      "        data = 'Current machine: nxrs.msd.anl.gov...'\n",
      "        date = '2019-07-30T12:57:43.183602'\n",
      "        description = 'nxprepare_mask'\n",
      "      program = 'nxprepare_mask'\n",
      "      sequence_index = 7\n",
      "      version = 'nxrefine v0.1.0+605.g61978ff'\n",
      "    nxrefine:NXprocess\n",
      "      date = '2018-06-15T15:53:33.360401'\n",
      "      note:NXnote\n",
      "        data = 'Current machine: puppy62...'\n",
      "        date = '2018-06-15T15:53:33.359127'\n",
      "        description = 'nxrefine'\n",
      "      program = 'nxrefine'\n",
      "      sequence_index = 4\n",
      "      version = 'nxrefine v0.1.0+334.g5556084'\n",
      "    nxtransform:NXprocess\n",
      "      date = '2019-07-30T11:29:54.344737'\n",
      "      note:NXnote\n",
      "        data = 'Current machine: nxrs.msd.anl.gov...'\n",
      "        date = '2019-07-30T11:29:54.341157'\n",
      "        description = 'nxtransform'\n",
      "      program = 'nxtransform'\n",
      "      sequence_index = 7\n",
      "      version = 'nxrefine v0.1.0+605.g61978ff'\n",
      "    peaks:NXreflections\n",
      "      @first = 25\n",
      "      @last = 3650\n",
      "      @norm = 50000.0\n",
      "      @radius = 200\n",
      "      @threshold = 132051.0\n",
      "      @width = 3\n",
      "      azimuthal_angle = float64(115)\n",
      "      covxy = float32(115)\n",
      "      intensity = float32(115)\n",
      "      npixels = float32(115)\n",
      "      polar_angle = float64(115)\n",
      "      sigx = float32(115)\n",
      "      sigy = float32(115)\n",
      "      x = float32(115)\n",
      "      y = float32(115)\n",
      "      z = float32(115)\n",
      "    sample:NXsample -> /entry/sample\n",
      "      @target = '/entry/sample'\n",
      "      label = 'md_54_4b'\n",
      "      lattice_centring = 'P'\n",
      "      name = 'movo2_40'\n",
      "      temperature = 120.0\n",
      "        @units = 'K'\n",
      "      unit_cell_group = 'tetragonal'\n",
      "      unitcell_a = 4.579394729303869\n",
      "      unitcell_alpha = 90.0\n",
      "      unitcell_b = 4.579394729303869\n",
      "      unitcell_beta = 90.0\n",
      "      unitcell_c = 2.8602820375202533\n",
      "      unitcell_gamma = 90.0\n",
      "    transform:NXdata\n",
      "      @axes = ['Ql', 'Qk', 'Qh']\n",
      "      @signal = 'data'\n",
      "      Qh = float64(1201)\n",
      "      Qk = float64(1201)\n",
      "      Ql = float64(801)\n",
      "      command = 'cctw transform --script /data3/GUP-53547/movo2_40/md_54_...'\n",
      "      data -> 120K/f3_transform.nxs['/entry/data/v']\n",
      "      weights -> 120K/f3_transform.nxs['/entry/data/n']\n"
     ]
    }
   ],
   "source": [
    "# Load data, print tree\n",
    "\n",
    "filename = base_dir + 'movo2_40_120K.nxs'\n",
    "data = nxload(filename)\n",
    "data.unlock()\n",
    "\n",
    "filename_background = base_dir + 'movo2_40_background.nxs'\n",
    "\n",
    "movo2_40_background = nxload(filename_background)\n",
    "movo2_40_background.unlock()\n",
    "\n",
    "print(data.tree)"
   ]
  },
  {
   "cell_type": "code",
   "execution_count": 4,
   "metadata": {
    "ExecuteTime": {
     "end_time": "2020-08-06T02:46:13.725832Z",
     "start_time": "2020-08-06T02:46:12.034029Z"
    }
   },
   "outputs": [
    {
     "data": {
      "image/png": "[encoded data removed]",
      "text/plain": [
       "<Figure size 432x288 with 2 Axes>"
      ]
     },
     "metadata": {
      "needs_background": "light"
     },
     "output_type": "display_data"
    },
    {
     "data": {
      "image/png": "[encoded data removed]",
      "text/plain": [
       "<Figure size 432x288 with 2 Axes>"
      ]
     },
     "metadata": {
      "needs_background": "light"
     },
     "output_type": "display_data"
    }
   ],
   "source": [
    "data.entry.symm_transform[-0.2:6.,-0.2:8.,0.0].data.plot(log=True,cmap=plt.cm.gray)\n",
    "data.entry.symm_transform[-0.2:6.,-0.2:8.,1.0/6].data.plot(log=True, cmap=plt.cm.gray)"
   ]
  },
  {
   "cell_type": "code",
   "execution_count": 5,
   "metadata": {
    "ExecuteTime": {
     "end_time": "2020-08-06T02:46:13.732904Z",
     "start_time": "2020-08-06T02:46:13.728478Z"
    }
   },
   "outputs": [],
   "source": [
    "# Here we set a \"large value\" threshold\n",
    "large_val = 2.65\n",
    "\n",
    "# Here we set a curvature threshold\n",
    "upper_curv_thresh = 0.15; lower_curv_thresh = -0.15\n",
    "\n",
    "def getbraggs(x,dxx):\n",
    "    return np.nonzero((x-np.rint(x))**2<(dxx/2)**2)[0]"
   ]
  },
  {
   "cell_type": "markdown",
   "metadata": {},
   "source": [
    "## Look at the distribution of the log values in the dataset"
   ]
  },
  {
   "cell_type": "code",
   "execution_count": 6,
   "metadata": {
    "ExecuteTime": {
     "end_time": "2020-08-06T02:46:16.012909Z",
     "start_time": "2020-08-06T02:46:13.735010Z"
    }
   },
   "outputs": [
    {
     "name": "stderr",
     "output_type": "stream",
     "text": [
      "<ipython-input-6-b8b912eddbe0>:2: RuntimeWarning: divide by zero encountered in log\n",
      "  z3dl = np.log(z3d)\n"
     ]
    }
   ],
   "source": [
    "z3d = data.entry.symm_transform[-0.2:6.,-0.2:8.,-0.2:8.].data.nxvalue # - movo2_40_background.entry.symm_transform[-0.2:6.,-0.2:8.,-0.2:8.].data.nxdata\n",
    "z3dl = np.log(z3d)\n",
    "# Truncate the logarithm (simpler)\n",
    "z3dl[z3dl < 0.0] = 0.0\n",
    "\n",
    "# Take the laplacian of the data\n",
    "elevation_mapz = laplace(-z3dl)"
   ]
  },
  {
   "cell_type": "code",
   "execution_count": 7,
   "metadata": {
    "ExecuteTime": {
     "end_time": "2020-08-06T02:46:17.654100Z",
     "start_time": "2020-08-06T02:46:16.014799Z"
    }
   },
   "outputs": [
    {
     "name": "stderr",
     "output_type": "stream",
     "text": [
      "<ipython-input-7-06bc36e5ee6a>:1: RuntimeWarning: divide by zero encountered in log\n",
      "  plt.imshow(np.log(movo2_40_background.entry.symm_transform[-0.2:6.,-0.2:8.,-0.2:8.].data.nxdata[:,:,10]))\n"
     ]
    },
    {
     "data": {
      "text/plain": [
       "<matplotlib.image.AxesImage at 0x7ff75172eaf0>"
      ]
     },
     "execution_count": 7,
     "metadata": {},
     "output_type": "execute_result"
    },
    {
     "data": {
      "image/png": "[encoded data removed]",
      "text/plain": [
       "<Figure size 432x288 with 1 Axes>"
      ]
     },
     "metadata": {
      "needs_background": "light"
     },
     "output_type": "display_data"
    }
   ],
   "source": [
    "plt.imshow(np.log(movo2_40_background.entry.symm_transform[-0.2:6.,-0.2:8.,-0.2:8.].data.nxdata[:,:,10]))"
   ]
  },
  {
   "cell_type": "code",
   "execution_count": 8,
   "metadata": {
    "ExecuteTime": {
     "end_time": "2020-08-06T02:46:17.798592Z",
     "start_time": "2020-08-06T02:46:17.656627Z"
    }
   },
   "outputs": [
    {
     "data": {
      "text/plain": [
       "(-0.5, 410.5, -0.5, 310.5)"
      ]
     },
     "execution_count": 8,
     "metadata": {},
     "output_type": "execute_result"
    },
    {
     "data": {
      "image/png": "[encoded data removed]",
      "text/plain": [
       "<Figure size 396x360 with 2 Axes>"
      ]
     },
     "metadata": {
      "needs_background": "light"
     },
     "output_type": "display_data"
    }
   ],
   "source": [
    "fig, ax = plt.subplots(figsize=(5.5, 5))\n",
    "c = ax.imshow(elevation_mapz[:,:,20], cmap=plt.cm.gray, origin='lower')\n",
    "fig.colorbar(c, ax=ax)\n",
    "ax.set_title('Laplacian map')\n",
    "ax.axis('off')"
   ]
  },
  {
   "cell_type": "markdown",
   "metadata": {},
   "source": [
    "## Initialize X, Y, Z and dX, dY, and dZ"
   ]
  },
  {
   "cell_type": "code",
   "execution_count": 9,
   "metadata": {
    "ExecuteTime": {
     "end_time": "2020-08-06T02:46:23.950815Z",
     "start_time": "2020-08-06T02:46:19.188956Z"
    }
   },
   "outputs": [],
   "source": [
    "# The markers should be the Bragg locations\n",
    "x = data.entry.symm_transform[-0.2:6.,-0.2:8.,-0.2:8.].Ql.nxvalue\n",
    "x2 = data.entry.symm_transform[-0.2:6.,-0.2:8.,-0.2:8.].Qk.nxvalue\n",
    "x3 = data.entry.symm_transform[-0.2:6.,-0.2:8.,-0.2:8.].Qh.nxvalue\n",
    "\n",
    "dx = x[1] - x[0]\n",
    "dx2 = x2[1] - x2[0]\n",
    "dx3 = x3[1] - x3[0]"
   ]
  },
  {
   "cell_type": "markdown",
   "metadata": {},
   "source": [
    "## Define the symmetrizing operation and the standard punch"
   ]
  },
  {
   "cell_type": "code",
   "execution_count": 10,
   "metadata": {
    "ExecuteTime": {
     "end_time": "2020-08-06T02:51:11.217214Z",
     "start_time": "2020-08-06T02:51:11.207505Z"
    }
   },
   "outputs": [],
   "source": [
    "Qh_lim=8\n",
    "Qk_lim=8\n",
    "Ql_lim=6\n",
    "\n",
    "kmin=50*(6-Ql_lim)\n",
    "kmax=50*(6+Ql_lim)\n",
    "jmin=50*(8-Qk_lim)\n",
    "jmax=50*(8+Qk_lim)\n",
    "imin=50*(8-Qh_lim)\n",
    "imax=50*(8+Qh_lim)\n",
    "\n",
    "def symmetrize(res):\n",
    "    # Convolultion happens over a single octant of the dataset\n",
    "    # This is a bit ad-hoc as the indices are hard-coded.\n",
    "    vvals=np.zeros((601,801,801))\n",
    "    vvals[290:601,390:801,390:801] = res\n",
    "    vvals[300:601,400:801,0:401] = flipaxis(vvals[300:601,400:801,400:801],2)\n",
    "    vvals[300:601,0:401,0:801] = flipaxis(vvals[300:601,400:801,0:801],1)\n",
    "    vvals[0:301,0:801,0:801] = flipaxis(vvals[300:601,0:801,0:801],0)\n",
    "    # background subtraction - what is the minimum spherically symmetric background - not\n",
    "    # rigorously based on anything\n",
    "    # vvals=vvals[kmin:kmax,jmin:jmax,imin:imax]-movo2_40_background.entry.symm_transform[-6.:5.98,-8.:7.98,-8.:7.98].data.nxdata-2\n",
    "    # Anything less than zero is set to zero. No intensity should be less than zero\n",
    "    # vvals[vvals < 0] = 0\n",
    "    return vvals[0:600,0:800,0:800]"
   ]
  },
  {
   "cell_type": "code",
   "execution_count": 11,
   "metadata": {},
   "outputs": [
    {
     "data": {
      "text/plain": [
       "<PyCall.jlwrap Laplace3D_Grid>"
      ]
     },
     "execution_count": 11,
     "metadata": {},
     "output_type": "execute_result"
    }
   ],
   "source": [
    "julia.include(repo_dir+\"/MaternKernelApproximation.jl\")"
   ]
  },
  {
   "cell_type": "code",
   "execution_count": 12,
   "metadata": {
    "scrolled": true
   },
   "outputs": [
    {
     "name": "stdout",
     "output_type": "stream",
     "text": [
      "Time taken : 179.54053642899999\n"
     ]
    }
   ],
   "source": [
    "# Matern Interpolation happens here.\n",
    "epsilon = 0.\n",
    "radius = 0.2001;\n",
    "h = 0.02;\n",
    "xmin = 1\n",
    "xmax = 6\n",
    "ymin = 1\n",
    "ymax = 8\n",
    "zmin = 1\n",
    "zmax = 8\n",
    "xbegin = ybegin = zbegin =-0.2\n",
    "z3d_copy =np.copy(z3d)\n",
    "z3d_restored = np.copy(z3d)\n",
    "stride = 20;\n",
    "starttime = timeit.default_timer()\n",
    "for i in range(zmin, zmax):\n",
    "    i1 = int((i-zbegin) /h)-stride\n",
    "    i2 = i1+2*stride+1\n",
    "    #print(i1,i2)\n",
    "    for j in range(ymin, ymax):\n",
    "        j1 = int((j-ybegin)/h)-stride;\n",
    "        j2 = j1+2*stride+1\n",
    "        #print(j1,j2)\n",
    "        for k in range(xmin, xmax):\n",
    "            k1 = int((k-ybegin)/h) - stride\n",
    "            k2 = k1+2*stride+1\n",
    "            #print(k1,k2)\n",
    "            z3temp = z3d_copy[k1:k2,j1:j2,i1:i2]\n",
    "            restored_img, punched_image = julia.Matern3D_Grid(x[k1:k2], x2[j1:j2], x3[i1:i2], z3temp, epsilon, radius, h)\n",
    "            restored_img_reshape = np.reshape(restored_img, (2*stride+1,2*stride+1,2*stride+1))\n",
    "            z3d_restored[k1:k2, j1:j2, i1:i2] = restored_img_reshape.T\n",
    "print(\"Time taken :\", timeit.default_timer() - starttime)\n",
    "\n",
    "# The result of the Matern interpolation is in z3d_restored"
   ]
  },
  {
   "cell_type": "code",
   "execution_count": 13,
   "metadata": {},
   "outputs": [
    {
     "name": "stdout",
     "output_type": "stream",
     "text": [
      "Time taken : 59.60894800099999\n"
     ]
    }
   ],
   "source": [
    "# Laplace interpolation happens here.\n",
    "# Interpolated data is in z3d_restored_laplace. Original in z3d.\n",
    "\n",
    "z3d_copy =np.copy(z3d)\n",
    "z3d_restored_laplace = np.copy(z3d)\n",
    "starttime = timeit.default_timer()\n",
    "for i in range(zmin, zmax):\n",
    "    i1 = int((i-zbegin) /h)-stride\n",
    "    i2 = i1+2*stride+1\n",
    "    #print(i1,i2)\n",
    "    for j in range(ymin, ymax):\n",
    "        j1 = int((j-ybegin)/h)-stride;\n",
    "        j2 = j1+2*stride+1\n",
    "        #print(j1,j2)\n",
    "        for k in range(xmin, xmax):\n",
    "            k1 = int((k-ybegin)/h) - stride\n",
    "            k2 = k1+2*stride+1\n",
    "            #print(k1,k2)\n",
    "            z3temp = z3d_copy[k1:k2,j1:j2,i1:i2]\n",
    "            restored_img, punched_image = julia.Laplace3D_Grid(x[k1:k2], x2[j1:j2], x3[i1:i2], z3temp, radius, h)\n",
    "            restored_img_reshape = np.reshape(restored_img, (2*stride+1,2*stride+1,2*stride+1))\n",
    "            z3d_restored_laplace[k1:k2, j1:j2, i1:i2] = restored_img_reshape.T\n",
    "print(\"Time taken :\", timeit.default_timer() - starttime)"
   ]
  },
  {
   "cell_type": "code",
   "execution_count": 14,
   "metadata": {},
   "outputs": [
    {
     "data": {
      "text/plain": [
       "Text(0.5, 1.0, 'Laplace interpolated')"
      ]
     },
     "execution_count": 14,
     "metadata": {},
     "output_type": "execute_result"
    },
    {
     "data": {
      "image/png": "[encoded data removed]",
      "text/plain": [
       "<Figure size 1080x360 with 3 Axes>"
      ]
     },
     "metadata": {
      "needs_background": "light"
     },
     "output_type": "display_data"
    }
   ],
   "source": [
    "# Taking a 1D slice\n",
    "\n",
    "# Index in x and y\n",
    "idx = 310;\n",
    "idy = 210;\n",
    "\n",
    "# Find the maximum of the data on the slice common to both z3d_copy and z3d (are these different?) and add 10 for good measure\n",
    "max1 = np.max(z3d_copy[:,idy,idx])\n",
    "max2 = np.max(z3d[:,idy,idx])\n",
    "max_y = np.max([max1, max2])+10\n",
    "\n",
    "# Plot original data, matern and laplace interpolations\n",
    "fig,ax=plt.subplots(1,3, figsize=(15,5))\n",
    "ax[0].plot(np.log10(z3d[:,idy, idx]))\n",
    "#ax[0].set_ylim([0, max_y])\n",
    "ax[0].set_title(\"Original data\")\n",
    "ax[2].plot(np.log10(z3d_restored[:, idy,idx]))\n",
    "ax[2].set_title(\"Matern interpolated\")\n",
    "#ax[2].set_ylim([0, max_y])\n",
    "ax[1].plot(np.log10(z3d_restored_laplace[:, idy,idx]))\n",
    "ax[1].set_title(\"Laplace interpolated\")\n",
    "#ax[1].set_ylim([0, max_y])"
   ]
  },
  {
   "cell_type": "code",
   "execution_count": 16,
   "metadata": {},
   "outputs": [
    {
     "name": "stdout",
     "output_type": "stream",
     "text": [
      "[   0.          0.          0.       ...    1.435319    5.371087\n",
      " 1186.1233  ]\n"
     ]
    }
   ],
   "source": [
    "# do a quick visual error comparison\n",
    "print(z3d[90:111,60,60] - z3d_restored[90:111,60,60])"
   ]
  },
  {
   "cell_type": "code",
   "execution_count": 17,
   "metadata": {},
   "outputs": [
    {
     "name": "stdout",
     "output_type": "stream",
     "text": [
      "(311, 411, 411)\n",
      "(311, 411, 411)\n"
     ]
    }
   ],
   "source": [
    "punched, nan_locs = standard_punch(x,x2,x3,z3d,0.2001)"
   ]
  },
  {
   "cell_type": "code",
   "execution_count": 18,
   "metadata": {
    "ExecuteTime": {
     "end_time": "2020-08-06T02:51:25.360729Z",
     "start_time": "2020-08-06T02:51:22.960574Z"
    }
   },
   "outputs": [
    {
     "data": {
      "text/plain": [
       "(600, 800, 800)"
      ]
     },
     "execution_count": 18,
     "metadata": {},
     "output_type": "execute_result"
    }
   ],
   "source": [
    "symmetrize(nan_locs).shape \n",
    "# Note: this is one smaller in every direction than the original: this is so that one can do an FFT and the data can simply be tiled"
   ]
  },
  {
   "cell_type": "markdown",
   "metadata": {},
   "source": [
    "## Save the watershed and standard punch locations to an .nxs file "
   ]
  },
  {
   "cell_type": "code",
   "execution_count": 19,
   "metadata": {
    "ExecuteTime": {
     "end_time": "2020-08-06T02:51:28.819663Z",
     "start_time": "2020-08-06T02:51:27.989952Z"
    }
   },
   "outputs": [],
   "source": [
    "expt_data = nxload(save_data_dir + 'movo2_40_120K.nxs')['entry'] # or root['entry/masked_transform']"
   ]
  },
  {
   "cell_type": "code",
   "execution_count": 20,
   "metadata": {
    "ExecuteTime": {
     "end_time": "2020-08-06T02:51:44.157600Z",
     "start_time": "2020-08-06T02:51:28.825859Z"
    }
   },
   "outputs": [],
   "source": [
    "# Save the standard punch locations -- Paths and names of the filenames need to be changed. So commenting\n",
    "#out the Save command.\n",
    "root = NXroot(NXentry())\n",
    "# Make a nexus field for the Standard punch \n",
    "stdpunch = NXfield(symmetrize(nan_locs), name='standard_punch_locs')\n",
    "root.entry.sphere_punch = NXdata(stdpunch, expt_data.symm_transform[-6.:5.98,-8.:7.98,-8.:7.98].nxaxes)\n",
    "#root.save(save_data_dir + 'punched/new_movo2_40_sphere_punch_locs.nxs')"
   ]
  },
  {
   "cell_type": "markdown",
   "metadata": {},
   "source": [
    "# Interpolation step"
   ]
  },
  {
   "cell_type": "code",
   "execution_count": 21,
   "metadata": {
    "ExecuteTime": {
     "end_time": "2020-08-06T02:56:21.845817Z",
     "start_time": "2020-08-06T02:51:58.860558Z"
    }
   },
   "outputs": [
    {
     "name": "stdout",
     "output_type": "stream",
     "text": [
      "CPU times: user 7min 28s, sys: 1.21 s, total: 7min 29s\n",
      "Wall time: 7min 30s\n"
     ]
    }
   ],
   "source": [
    "# Conventional punch and Gaussian fill\n",
    "%time res = standard_fill(z3d,punched,nan_locs)"
   ]
  },
  {
   "cell_type": "code",
   "execution_count": 22,
   "metadata": {
    "ExecuteTime": {
     "end_time": "2020-08-06T02:56:22.064841Z",
     "start_time": "2020-08-06T02:56:21.848920Z"
    }
   },
   "outputs": [
    {
     "data": {
      "text/plain": [
       "<matplotlib.image.AxesImage at 0x7fc4b8b04a90>"
      ]
     },
     "execution_count": 22,
     "metadata": {},
     "output_type": "execute_result"
    },
    {
     "data": {
      "image/png": "[encoded data removed]",
      "text/plain": [
       "<Figure size 432x288 with 1 Axes>"
      ]
     },
     "metadata": {
      "needs_background": "light"
     },
     "output_type": "display_data"
    }
   ],
   "source": [
    "# plt.imshow(res[:,:,10], origin='lower')\n",
    "plt.imshow(punched[:,:,10], origin='lower')"
   ]
  },
  {
   "cell_type": "code",
   "execution_count": 23,
   "metadata": {},
   "outputs": [],
   "source": [
    "root = NXroot(NXentry())\n",
    "stdinterp = NXfield(symmetrize(z3d_restored), name='sphere_punch_matern_interp_data')\n",
    "root.entry.sphere_matern_data = NXdata(stdinterp, expt_data.symm_transform[-6.:5.98,-8.:7.98,-8.:7.98].nxaxes)\n",
    "\n",
    "#root.save(save_data_dir + 'aux/movo2_40_sphere_matern_data.nxs')"
   ]
  },
  {
   "cell_type": "code",
   "execution_count": 24,
   "metadata": {},
   "outputs": [],
   "source": [
    "root = NXroot(NXentry())\n",
    "stdinterp = NXfield(symmetrize(z3d_restored_laplace), name='sphere_punch_laplace_interp_data')\n",
    "root.entry.sphere_laplace_data = NXdata(stdinterp, expt_data.symm_transform[-6.:5.98,-8.:7.98,-8.:7.98].nxaxes)\n",
    "\n",
    "#root.save(save_data_dir + 'aux/movo2_40_sphere_laplace_data.nxs')"
   ]
  },
  {
   "cell_type": "code",
   "execution_count": 25,
   "metadata": {},
   "outputs": [],
   "source": [
    "root = NXroot(NXentry())\n",
    "stdinterp = NXfield(symmetrize(z3d_copy), name='original_data')\n",
    "root.entry.sphere_laplace_data = NXdata(stdinterp, expt_data.symm_transform[-6.:5.98,-8.:7.98,-8.:7.98].nxaxes)\n",
    "\n",
    "#root.save(save_data_dir + 'aux/movo2_40_original_data.nxs')"
   ]
  },
  {
   "cell_type": "code",
   "execution_count": 26,
   "metadata": {
    "ExecuteTime": {
     "end_time": "2020-08-06T02:48:44.682542Z",
     "start_time": "2020-08-06T02:45:46.632Z"
    }
   },
   "outputs": [],
   "source": [
    "# Save the standard punch and fill result.\n",
    "root = NXroot(NXentry())\n",
    "stdinterp = NXfield(symmetrize(res), name='sphere_punch_gauss_interp_data')\n",
    "root.entry.sphere_gauss_data = NXdata(stdinterp, expt_data.symm_transform[-6.:5.98,-8.:7.98,-8.:7.98].nxaxes)\n",
    "\n",
    "#root.save(save_data_dir + 'aux/movo2_40_sphere_gauss_data.nxs')"
   ]
  },
  {
   "cell_type": "code",
   "execution_count": null,
   "metadata": {},
   "outputs": [],
   "source": []
  }
 ],
 "metadata": {
  "@webio": {
   "lastCommId": null,
   "lastKernelId": null
  },
  "kernelspec": {
   "display_name": "Python 3",
   "language": "python",
   "name": "python3"
  },
  "language_info": {
   "codemirror_mode": {
    "name": "ipython",
    "version": 3
   },
   "file_extension": ".py",
   "mimetype": "text/x-python",
   "name": "python",
   "nbconvert_exporter": "python",
   "pygments_lexer": "ipython3",
   "version": "3.8.5"
  },
  "notify_time": "10",
  "toc": {
   "base_numbering": 1,
   "nav_menu": {},
   "number_sections": true,
   "sideBar": true,
   "skip_h1_title": false,
   "title_cell": "Table of Contents",
   "title_sidebar": "Contents",
   "toc_cell": false,
   "toc_position": {},
   "toc_section_display": true,
   "toc_window_display": false
  }
 },
 "nbformat": 4,
 "nbformat_minor": 2
}
